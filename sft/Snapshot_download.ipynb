{
 "cells": [
  {
   "cell_type": "code",
   "execution_count": null,
   "id": "696143b8-913c-4bed-8d93-b5b4113b8daa",
   "metadata": {},
   "outputs": [],
   "source": [
    "!pip install huggingface_hub"
   ]
  },
  {
   "cell_type": "code",
   "execution_count": null,
   "id": "12ba7b35-2917-4e2f-8aba-4f5b6746376b",
   "metadata": {},
   "outputs": [],
   "source": [
    "!huggingface-cli login --token \"token\""
   ]
  },
  {
   "cell_type": "code",
   "execution_count": null,
   "id": "70b80518-2a61-47c6-9825-5a51fbe6e36f",
   "metadata": {},
   "outputs": [],
   "source": [
    "import os\n",
    "os.getcwd()"
   ]
  },
  {
   "cell_type": "code",
   "execution_count": null,
   "id": "19c1ec35-a3dd-4ea9-8d83-686108c2eea3",
   "metadata": {},
   "outputs": [],
   "source": [
    "from huggingface_hub import snapshot_download\n",
    "snapshot_download(repo_id=\"Qwen/Qwen3-4B\", repo_type=\"model\", local_dir=\"Qwen/Qwen3-4B\" )"
   ]
  },
  {
   "cell_type": "code",
   "execution_count": null,
   "id": "57ac89d8-cbda-4b26-8a4b-bcef653b02b0",
   "metadata": {},
   "outputs": [],
   "source": []
  }
 ],
 "metadata": {
  "kernelspec": {
   "display_name": "Python 3 (ipykernel)",
   "language": "python",
   "name": "python3"
  },
  "language_info": {
   "codemirror_mode": {
    "name": "ipython",
    "version": 3
   },
   "file_extension": ".py",
   "mimetype": "text/x-python",
   "name": "python",
   "nbconvert_exporter": "python",
   "pygments_lexer": "ipython3",
   "version": "3.10.12"
  }
 },
 "nbformat": 4,
 "nbformat_minor": 5
}
